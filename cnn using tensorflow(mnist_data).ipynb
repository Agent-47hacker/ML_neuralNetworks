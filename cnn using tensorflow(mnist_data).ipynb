{
 "cells": [
  {
   "cell_type": "code",
   "execution_count": 1,
   "metadata": {},
   "outputs": [],
   "source": [
    "# mnist cnn"
   ]
  },
  {
   "cell_type": "code",
   "execution_count": 2,
   "metadata": {},
   "outputs": [
    {
     "name": "stdout",
     "output_type": "stream",
     "text": [
      "Extracting MNIST_data/train-images-idx3-ubyte.gz\n",
      "Extracting MNIST_data/train-labels-idx1-ubyte.gz\n",
      "Extracting MNIST_data/t10k-images-idx3-ubyte.gz\n",
      "Extracting MNIST_data/t10k-labels-idx1-ubyte.gz\n"
     ]
    }
   ],
   "source": [
    "import tensorflow as tf\n",
    "from tensorflow.examples.tutorials.mnist import input_data\n",
    "mnist = input_data.read_data_sets(\"MNIST_data/\", one_hot = True)"
   ]
  },
  {
   "cell_type": "code",
   "execution_count": 3,
   "metadata": {},
   "outputs": [],
   "source": [
    "input_width = 28\n",
    "input_height = 28\n",
    "input_depth = 1\n",
    "input_pixels = 784\n",
    "\n",
    "cnl1 = 32\n",
    "cnl1_k = 5\n",
    "cnl2 = 64\n",
    "cnl2_k = 5\n",
    "cnl1_stride = 1\n",
    "cnl2_stride = 1\n",
    "cnl1_maxpool = 2\n",
    "cnl2_maxpool = 2\n",
    "\n",
    "hidden_in = 1024\n",
    "hidden_out = 10\n",
    "\n",
    "input_size_to_hidden_layer =  (input_width*input_height//(cnl1_maxpool*cnl2_maxpool)**2) * cnl2 "
   ]
  },
  {
   "cell_type": "code",
   "execution_count": 4,
   "metadata": {},
   "outputs": [
    {
     "data": {
      "text/plain": [
       "3136"
      ]
     },
     "execution_count": 4,
     "metadata": {},
     "output_type": "execute_result"
    }
   ],
   "source": [
    "input_size_to_hidden_layer"
   ]
  },
  {
   "cell_type": "code",
   "execution_count": 20,
   "metadata": {},
   "outputs": [],
   "source": [
    "weights = {\n",
    "    \"wc1\":tf.Variable(tf.random_normal([cnl1_k,cnl1_k,input_depth,cnl1])),\n",
    "    \"wc2\":tf.Variable(tf.random_normal([cnl2_k,cnl2_k,cnl1,cnl2])),\n",
    "    \"wh1\":tf.Variable(tf.random_normal([input_size_to_hidden_layer,hidden_in])),\n",
    "    \"wo\":tf.Variable(tf.random_normal([hidden_in,hidden_out]))\n",
    "}\n",
    "\n",
    "biases = {\n",
    "    \"bc1\": tf.Variable(tf.random_normal([cnl1])),\n",
    "    \"bc2\": tf.Variable(tf.random_normal([cnl2])),\n",
    "    \"bh1\": tf.Variable(tf.random_normal([hidden_in])),\n",
    "    \"bo\" : tf.Variable(tf.random_normal([hidden_out]))\n",
    "}"
   ]
  },
  {
   "cell_type": "code",
   "execution_count": 21,
   "metadata": {},
   "outputs": [],
   "source": [
    "def conv(x,weights,bias, strides = 1):\n",
    "    out = tf.nn.conv2d(x,weights,padding = \"SAME\",strides = [1,strides,strides,1])\n",
    "    out = tf.nn.bias_add(out, bias)\n",
    "    out = tf.nn.relu(out)\n",
    "    return out\n",
    "\n",
    "def maxpooling(x,k=2):\n",
    "    return tf.nn.max_pool(x,padding = \"SAME\",ksize = [1,k,k,1],strides = [1,k,k,1])\n",
    "    "
   ]
  },
  {
   "cell_type": "code",
   "execution_count": 22,
   "metadata": {},
   "outputs": [],
   "source": [
    "def cnn(x,weights,biases):\n",
    "    x = tf.reshape(x, shape = [-1 ,input_height, input_width, input_depth])\n",
    "    o_cnl1 = conv(x,weights[\"wc1\"],biases[\"bc1\"],cnl1_stride)\n",
    "    o_pool1 = maxpooling(o_cnl1 , cnl1_maxpool)\n",
    "    \n",
    "    o_cnl2 = conv(o_pool1 ,weights[\"wc2\"],biases[\"bc2\"],cnl2_stride)\n",
    "    o_pool2 = maxpooling(o_cnl2,cnl2_maxpool)\n",
    "    \n",
    "    i_hidden = tf.reshape(o_pool2 , shape = [-1, input_size_to_hidden_layer ])\n",
    "    o_hidden1 = tf.add(tf.matmul(i_hidden,weights[\"wh1\"]),biases[\"bh1\"])\n",
    "    o_hidden1_activated = tf.nn.relu(o_hidden1)\n",
    "    \n",
    "    output = tf.add(tf.matmul(o_hidden1_activated,weights['wo']),biases[\"bo\"])\n",
    "    return output"
   ]
  },
  {
   "cell_type": "code",
   "execution_count": 23,
   "metadata": {
    "scrolled": false
   },
   "outputs": [],
   "source": [
    "x = tf.placeholder(\"float\", [None, input_pixels])\n",
    "y = tf.placeholder(tf.int32, [None, hidden_out])\n",
    "keep_prob = tf.placeholder(\"float\")\n",
    "pred = cnn(x, weights, biases)"
   ]
  },
  {
   "cell_type": "code",
   "execution_count": 24,
   "metadata": {},
   "outputs": [],
   "source": [
    "cost =  tf.reduce_mean(tf.nn.softmax_cross_entropy_with_logits_v2(logits = pred,labels = y))"
   ]
  },
  {
   "cell_type": "code",
   "execution_count": 25,
   "metadata": {},
   "outputs": [],
   "source": [
    "optimizer = tf.train.AdamOptimizer(learning_rate = 0.01)\n",
    "optimizer = optimizer.minimize(cost) "
   ]
  },
  {
   "cell_type": "code",
   "execution_count": 26,
   "metadata": {},
   "outputs": [],
   "source": [
    "sess = tf.Session()\n",
    "sess.run(tf.global_variables_initializer())"
   ]
  },
  {
   "cell_type": "code",
   "execution_count": 27,
   "metadata": {},
   "outputs": [
    {
     "name": "stdout",
     "output_type": "stream",
     "text": [
      "903734.1203308105\n",
      "13103.38565826416\n",
      "6494.737899780273\n",
      "3472.08097076416\n",
      "1909.2965531349182\n",
      "1106.9512255191803\n",
      "579.4576704502106\n",
      "317.1891052722931\n",
      "182.61924697458744\n",
      "108.43650814896682\n"
     ]
    }
   ],
   "source": [
    "batch_size = 1000\n",
    "for i in range(10):\n",
    "    num_batches = int(mnist.train.num_examples/batch_size)\n",
    "    total_cost = 0\n",
    "    for j in range(num_batches):\n",
    "        batch_x,batch_y = mnist.train.next_batch(batch_size)\n",
    "        c, _ = sess.run((cost,optimizer),feed_dict = {x:batch_x , y:batch_y})\n",
    "        total_cost +=c\n",
    "    print(total_cost)"
   ]
  },
  {
   "cell_type": "code",
   "execution_count": 28,
   "metadata": {},
   "outputs": [],
   "source": [
    "predictions = tf.argmax(pred,1)\n",
    "true_labels = tf.argmax(y,1)\n",
    "correct_predictions = tf.equal(predictions,true_labels)\n",
    "p = sess.run(correct_predictions,feed_dict = {x:mnist.train.images,y:mnist.train.labels})"
   ]
  },
  {
   "cell_type": "code",
   "execution_count": 30,
   "metadata": {},
   "outputs": [
    {
     "data": {
      "text/plain": [
       "54848"
      ]
     },
     "execution_count": 30,
     "metadata": {},
     "output_type": "execute_result"
    }
   ],
   "source": [
    "p.sum()"
   ]
  },
  {
   "cell_type": "code",
   "execution_count": null,
   "metadata": {},
   "outputs": [],
   "source": []
  }
 ],
 "metadata": {
  "kernelspec": {
   "display_name": "Python 3",
   "language": "python",
   "name": "python3"
  },
  "language_info": {
   "codemirror_mode": {
    "name": "ipython",
    "version": 3
   },
   "file_extension": ".py",
   "mimetype": "text/x-python",
   "name": "python",
   "nbconvert_exporter": "python",
   "pygments_lexer": "ipython3",
   "version": "3.7.3"
  }
 },
 "nbformat": 4,
 "nbformat_minor": 2
}
