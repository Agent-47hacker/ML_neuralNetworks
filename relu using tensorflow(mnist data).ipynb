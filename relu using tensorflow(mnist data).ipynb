{
 "cells": [
  {
   "cell_type": "code",
   "execution_count": 2,
   "metadata": {},
   "outputs": [],
   "source": [
    "import tensorflow as tf"
   ]
  },
  {
   "cell_type": "code",
   "execution_count": 3,
   "metadata": {},
   "outputs": [
    {
     "name": "stdout",
     "output_type": "stream",
     "text": [
      "WARNING:tensorflow:From <ipython-input-3-e99a00302c11>:2: read_data_sets (from tensorflow.contrib.learn.python.learn.datasets.mnist) is deprecated and will be removed in a future version.\n",
      "Instructions for updating:\n",
      "Please use alternatives such as official/mnist/dataset.py from tensorflow/models.\n",
      "WARNING:tensorflow:From C:\\Users\\hello\\Anaconda3\\lib\\site-packages\\tensorflow\\contrib\\learn\\python\\learn\\datasets\\mnist.py:260: maybe_download (from tensorflow.contrib.learn.python.learn.datasets.base) is deprecated and will be removed in a future version.\n",
      "Instructions for updating:\n",
      "Please write your own downloading logic.\n",
      "WARNING:tensorflow:From C:\\Users\\hello\\Anaconda3\\lib\\site-packages\\tensorflow\\contrib\\learn\\python\\learn\\datasets\\mnist.py:262: extract_images (from tensorflow.contrib.learn.python.learn.datasets.mnist) is deprecated and will be removed in a future version.\n",
      "Instructions for updating:\n",
      "Please use tf.data to implement this functionality.\n",
      "Extracting MNIST_data/train-images-idx3-ubyte.gz\n",
      "WARNING:tensorflow:From C:\\Users\\hello\\Anaconda3\\lib\\site-packages\\tensorflow\\contrib\\learn\\python\\learn\\datasets\\mnist.py:267: extract_labels (from tensorflow.contrib.learn.python.learn.datasets.mnist) is deprecated and will be removed in a future version.\n",
      "Instructions for updating:\n",
      "Please use tf.data to implement this functionality.\n",
      "Extracting MNIST_data/train-labels-idx1-ubyte.gz\n",
      "WARNING:tensorflow:From C:\\Users\\hello\\Anaconda3\\lib\\site-packages\\tensorflow\\contrib\\learn\\python\\learn\\datasets\\mnist.py:110: dense_to_one_hot (from tensorflow.contrib.learn.python.learn.datasets.mnist) is deprecated and will be removed in a future version.\n",
      "Instructions for updating:\n",
      "Please use tf.one_hot on tensors.\n",
      "Extracting MNIST_data/t10k-images-idx3-ubyte.gz\n",
      "Extracting MNIST_data/t10k-labels-idx1-ubyte.gz\n",
      "WARNING:tensorflow:From C:\\Users\\hello\\Anaconda3\\lib\\site-packages\\tensorflow\\contrib\\learn\\python\\learn\\datasets\\mnist.py:290: DataSet.__init__ (from tensorflow.contrib.learn.python.learn.datasets.mnist) is deprecated and will be removed in a future version.\n",
      "Instructions for updating:\n",
      "Please use alternatives such as official/mnist/dataset.py from tensorflow/models.\n"
     ]
    }
   ],
   "source": [
    "from tensorflow.examples.tutorials.mnist import input_data\n",
    "mnist = input_data.read_data_sets(\"MNIST_data/\",one_hot = True)"
   ]
  },
  {
   "cell_type": "code",
   "execution_count": 4,
   "metadata": {},
   "outputs": [
    {
     "data": {
      "text/plain": [
       "Datasets(train=<tensorflow.contrib.learn.python.learn.datasets.mnist.DataSet object at 0x00000241BB9C7EF0>, validation=<tensorflow.contrib.learn.python.learn.datasets.mnist.DataSet object at 0x00000241BA931E10>, test=<tensorflow.contrib.learn.python.learn.datasets.mnist.DataSet object at 0x00000241BA98E9B0>)"
      ]
     },
     "execution_count": 4,
     "metadata": {},
     "output_type": "execute_result"
    }
   ],
   "source": [
    "mnist"
   ]
  },
  {
   "cell_type": "code",
   "execution_count": 5,
   "metadata": {},
   "outputs": [
    {
     "name": "stdout",
     "output_type": "stream",
     "text": [
      "(55000, 784) (55000, 10)\n",
      "(10000, 784) (10000, 10)\n",
      "(5000, 784) (5000, 10)\n"
     ]
    },
    {
     "data": {
      "text/plain": [
       "array([0., 0., 0., 0., 0., 0., 0., 1., 0., 0.])"
      ]
     },
     "execution_count": 5,
     "metadata": {},
     "output_type": "execute_result"
    }
   ],
   "source": [
    "print(mnist.train.images.shape , mnist.train.labels.shape)\n",
    "print(mnist.test.images.shape , mnist.test.labels.shape)\n",
    "print(mnist.validation.images.shape , mnist.validation.labels.shape)\n",
    "mnist.train.labels[0]"
   ]
  },
  {
   "cell_type": "code",
   "execution_count": 6,
   "metadata": {},
   "outputs": [
    {
     "name": "stdout",
     "output_type": "stream",
     "text": [
      "[[ 0.71978515  1.2876306  -0.36072296 ... -1.011375    0.72044384\n",
      "  -0.24227144]\n",
      " [ 0.9273274  -1.2060016  -0.5910101  ... -1.637249   -0.06270396\n",
      "  -0.72818726]\n",
      " [-1.8091173  -1.3116473  -1.6563568  ...  0.24570183  1.3522321\n",
      "   0.02035055]\n",
      " ...\n",
      " [ 0.9711389   1.6769863   0.81723255 ...  0.02775337  0.9579706\n",
      "  -0.3969944 ]\n",
      " [ 1.7728772  -0.28677893 -1.0019287  ... -0.48161155 -0.16465978\n",
      "  -0.18547879]\n",
      " [-0.31683868  1.2683002   1.2446811  ...  0.5713958   0.2587519\n",
      "  -0.40096757]]\n"
     ]
    }
   ],
   "source": [
    "with tf.Session() as sess :\n",
    "    print(tf.random_normal([784,256]).eval())"
   ]
  },
  {
   "cell_type": "code",
   "execution_count": 87,
   "metadata": {},
   "outputs": [],
   "source": [
    "#weights and baises\n",
    "n_input = 784\n",
    "n_hidden_1 = 256\n",
    "n_hidden_2 = 256\n",
    "n_classes = 10\n",
    "\n",
    "weights = {'h1': tf.Variable(tf.random_normal([n_input , n_hidden_1])),\n",
    "           'h2': tf.Variable(tf.random_normal([n_hidden_1,n_hidden_2])),\n",
    "           'out': tf.Variable(tf.random_normal([n_hidden_2,n_classes]))\n",
    "          \n",
    "          }\n",
    "\n",
    "baises = {'h1':tf.Variable(tf.random_normal([n_hidden_1])),\n",
    "          'h2':tf.Variable(tf.random_normal([n_hidden_2])),\n",
    "          'out':tf.Variable(tf.random_normal([n_classes]))\n",
    "         }\n",
    "\n",
    "sess = tf.Session()\n",
    "sess.run(tf.global_variables_initializer())"
   ]
  },
  {
   "cell_type": "code",
   "execution_count": 88,
   "metadata": {},
   "outputs": [],
   "source": [
    "def forward_propagation(x,weights,baises):\n",
    "    input_h1 = tf.add(tf.matmul(x,weights['h1']),baises['h2'])\n",
    "    out_h1 = tf.nn.relu(input_h1)\n",
    "    \n",
    "    input_h2 = tf.add(tf.matmul(out_h1 , weights['h2']) , baises['h2'])\n",
    "    out_h2 = tf.nn.relu(input_h2)\n",
    "    \n",
    "    in_final_layer = tf.add(tf.matmul(out_h2, weights['out']),baises['out'])\n",
    "    \n",
    "    return in_final_layer  "
   ]
  },
  {
   "cell_type": "code",
   "execution_count": 89,
   "metadata": {},
   "outputs": [],
   "source": [
    "x = tf.placeholder('float',[None, n_input])\n",
    "y = tf.placeholder(tf.int32 ,[None , n_classes])"
   ]
  },
  {
   "cell_type": "code",
   "execution_count": 90,
   "metadata": {},
   "outputs": [],
   "source": [
    "pred = forward_propagation(x,weights,baises)\n",
    "cost = tf.reduce_mean(tf.nn.softmax_cross_entropy_with_logits(logits = pred, labels = y))\n",
    "optimizer = tf.train.AdamOptimizer(learning_rate = 0.01)\n",
    "optimize = optimizer.minimize(cost)\n",
    "sess.run(tf.global_variables_initializer())"
   ]
  },
  {
   "cell_type": "code",
   "execution_count": 91,
   "metadata": {},
   "outputs": [
    {
     "name": "stdout",
     "output_type": "stream",
     "text": [
      "8830.37573814392\n",
      "1521.9158372879028\n",
      "885.6358847618103\n",
      "580.7494759559631\n",
      "401.97440695762634\n",
      "297.2341318130493\n",
      "247.72549498081207\n",
      "197.15268969535828\n",
      "156.91229957342148\n",
      "127.38610863685608\n",
      "111.01910465955734\n",
      "85.89672750234604\n",
      "64.13280384242535\n",
      "50.416738241910934\n",
      "41.300014801323414\n",
      "31.728983141481876\n",
      "14.191006020177156\n",
      "11.593852577052896\n",
      "8.690532512985168\n",
      "5.189031418076951\n",
      "3.1081166123915\n"
     ]
    }
   ],
   "source": [
    "# BATCH GRADIENT DECENT cost optimization\n",
    "batch_size = 1000\n",
    "for i in range(21):\n",
    "    num_batches = int(mnist.train.num_examples/batch_size)\n",
    "    total_cost = 0\n",
    "    r=0\n",
    "    for j in range(num_batches):\n",
    "        r += 1000\n",
    "        cost_ ,_ = sess.run([cost,optimize] , feed_dict = {x:mnist.train.images[r-1000:r], y:mnist.train.labels[r-1000:r]})\n",
    "        total_cost += cost_\n",
    "    print(total_cost)"
   ]
  },
  {
   "cell_type": "code",
   "execution_count": null,
   "metadata": {},
   "outputs": [],
   "source": [
    "# COST OPTIMAIZATION BY ITTERATION \n",
    "for i in range(55):\n",
    "    sess.run([cost,optimize] , feed_dict = {x:mnist.train.images, y:mnist.train.labels})"
   ]
  },
  {
   "cell_type": "code",
   "execution_count": 92,
   "metadata": {},
   "outputs": [],
   "source": [
    "# measuring pre correctness\n",
    "predictions = tf.argmax(pred , 1)\n",
    "true_labels = tf.argmax(y,1)\n",
    "correct_predictions = tf.equal(predictions , true_labels)\n",
    "p = sess.run(correct_predictions, feed_dict = {x:mnist.train.images, y:mnist.train.labels})"
   ]
  },
  {
   "cell_type": "code",
   "execution_count": 93,
   "metadata": {},
   "outputs": [
    {
     "data": {
      "text/plain": [
       "54893"
      ]
     },
     "execution_count": 93,
     "metadata": {},
     "output_type": "execute_result"
    }
   ],
   "source": [
    "#RESULT\n",
    "# total no of all true values / correct values \n",
    "p.sum()"
   ]
  },
  {
   "cell_type": "code",
   "execution_count": 94,
   "metadata": {
    "scrolled": false
   },
   "outputs": [
    {
     "name": "stdout",
     "output_type": "stream",
     "text": [
      "[7 3 4 ... 5 6 8]\n"
     ]
    },
    {
     "data": {
      "text/plain": [
       "array([7, 3, 4, ..., 5, 6, 8], dtype=int64)"
      ]
     },
     "execution_count": 94,
     "metadata": {},
     "output_type": "execute_result"
    }
   ],
   "source": [
    "a = sess.run(predictions , feed_dict ={x:mnist.train.images})\n",
    "print(a)\n",
    "b = tf.argmax(mnist.train.labels , 1)\n",
    "sess.run(b)"
   ]
  },
  {
   "cell_type": "code",
   "execution_count": 53,
   "metadata": {},
   "outputs": [
    {
     "data": {
      "text/plain": [
       "55000"
      ]
     },
     "execution_count": 53,
     "metadata": {},
     "output_type": "execute_result"
    }
   ],
   "source": [
    "mnist.train.images.shape[0]"
   ]
  },
  {
   "cell_type": "code",
   "execution_count": null,
   "metadata": {},
   "outputs": [],
   "source": []
  }
 ],
 "metadata": {
  "kernelspec": {
   "display_name": "Python 3",
   "language": "python",
   "name": "python3"
  },
  "language_info": {
   "codemirror_mode": {
    "name": "ipython",
    "version": 3
   },
   "file_extension": ".py",
   "mimetype": "text/x-python",
   "name": "python",
   "nbconvert_exporter": "python",
   "pygments_lexer": "ipython3",
   "version": "3.7.3"
  }
 },
 "nbformat": 4,
 "nbformat_minor": 2
}
